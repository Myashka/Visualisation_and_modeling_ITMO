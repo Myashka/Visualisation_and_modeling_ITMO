{
 "cells": [
  {
   "cell_type": "code",
   "execution_count": 3,
   "id": "painful-attack",
   "metadata": {},
   "outputs": [],
   "source": [
    "import numpy as np\n",
    "from pandas import Series, DataFrame\n",
    "import pandas as pd\n",
    "%matplotlib inline\n",
    "import matplotlib.pyplot as plt\n",
    "from sklearn import preprocessing"
   ]
  },
  {
   "cell_type": "code",
   "execution_count": 4,
   "id": "nearby-infection",
   "metadata": {},
   "outputs": [],
   "source": [
    "df = pd.read_csv('Mumbai1.csv')\n",
    "df.rename(columns = {'Unnamed: 0':'ID'}, inplace = True)"
   ]
  },
  {
   "cell_type": "code",
   "execution_count": 5,
   "id": "immune-directory",
   "metadata": {},
   "outputs": [
    {
     "data": {
      "text/html": [
       "<div>\n",
       "<style scoped>\n",
       "    .dataframe tbody tr th:only-of-type {\n",
       "        vertical-align: middle;\n",
       "    }\n",
       "\n",
       "    .dataframe tbody tr th {\n",
       "        vertical-align: top;\n",
       "    }\n",
       "\n",
       "    .dataframe thead th {\n",
       "        text-align: right;\n",
       "    }\n",
       "</style>\n",
       "<table border=\"1\" class=\"dataframe\">\n",
       "  <thead>\n",
       "    <tr style=\"text-align: right;\">\n",
       "      <th></th>\n",
       "      <th>ID</th>\n",
       "      <th>Price</th>\n",
       "      <th>Area</th>\n",
       "      <th>Location</th>\n",
       "      <th>No. of Bedrooms</th>\n",
       "      <th>New/Resale</th>\n",
       "      <th>Gymnasium</th>\n",
       "      <th>Lift Available</th>\n",
       "      <th>Car Parking</th>\n",
       "      <th>Maintenance Staff</th>\n",
       "      <th>24x7 Security</th>\n",
       "      <th>Children's Play Area</th>\n",
       "      <th>Clubhouse</th>\n",
       "      <th>Intercom</th>\n",
       "      <th>Landscaped Gardens</th>\n",
       "      <th>Indoor Games</th>\n",
       "      <th>Gas Connection</th>\n",
       "      <th>Jogging Track</th>\n",
       "      <th>Swimming Pool</th>\n",
       "    </tr>\n",
       "  </thead>\n",
       "  <tbody>\n",
       "    <tr>\n",
       "      <th>0</th>\n",
       "      <td>0</td>\n",
       "      <td>4850000</td>\n",
       "      <td>720</td>\n",
       "      <td>Kharghar</td>\n",
       "      <td>1</td>\n",
       "      <td>0</td>\n",
       "      <td>0</td>\n",
       "      <td>1</td>\n",
       "      <td>1</td>\n",
       "      <td>1</td>\n",
       "      <td>1</td>\n",
       "      <td>0</td>\n",
       "      <td>0</td>\n",
       "      <td>0</td>\n",
       "      <td>0</td>\n",
       "      <td>0</td>\n",
       "      <td>0</td>\n",
       "      <td>0</td>\n",
       "      <td>0</td>\n",
       "    </tr>\n",
       "    <tr>\n",
       "      <th>1</th>\n",
       "      <td>1</td>\n",
       "      <td>4500000</td>\n",
       "      <td>600</td>\n",
       "      <td>Kharghar</td>\n",
       "      <td>1</td>\n",
       "      <td>0</td>\n",
       "      <td>1</td>\n",
       "      <td>1</td>\n",
       "      <td>1</td>\n",
       "      <td>1</td>\n",
       "      <td>1</td>\n",
       "      <td>0</td>\n",
       "      <td>1</td>\n",
       "      <td>0</td>\n",
       "      <td>0</td>\n",
       "      <td>0</td>\n",
       "      <td>0</td>\n",
       "      <td>1</td>\n",
       "      <td>1</td>\n",
       "    </tr>\n",
       "    <tr>\n",
       "      <th>2</th>\n",
       "      <td>2</td>\n",
       "      <td>6700000</td>\n",
       "      <td>650</td>\n",
       "      <td>Kharghar</td>\n",
       "      <td>1</td>\n",
       "      <td>0</td>\n",
       "      <td>1</td>\n",
       "      <td>1</td>\n",
       "      <td>1</td>\n",
       "      <td>1</td>\n",
       "      <td>1</td>\n",
       "      <td>1</td>\n",
       "      <td>1</td>\n",
       "      <td>1</td>\n",
       "      <td>0</td>\n",
       "      <td>0</td>\n",
       "      <td>0</td>\n",
       "      <td>1</td>\n",
       "      <td>1</td>\n",
       "    </tr>\n",
       "    <tr>\n",
       "      <th>3</th>\n",
       "      <td>3</td>\n",
       "      <td>4500000</td>\n",
       "      <td>650</td>\n",
       "      <td>Kharghar</td>\n",
       "      <td>1</td>\n",
       "      <td>0</td>\n",
       "      <td>0</td>\n",
       "      <td>1</td>\n",
       "      <td>1</td>\n",
       "      <td>1</td>\n",
       "      <td>1</td>\n",
       "      <td>0</td>\n",
       "      <td>0</td>\n",
       "      <td>1</td>\n",
       "      <td>1</td>\n",
       "      <td>0</td>\n",
       "      <td>0</td>\n",
       "      <td>0</td>\n",
       "      <td>0</td>\n",
       "    </tr>\n",
       "    <tr>\n",
       "      <th>4</th>\n",
       "      <td>4</td>\n",
       "      <td>5000000</td>\n",
       "      <td>665</td>\n",
       "      <td>Kharghar</td>\n",
       "      <td>1</td>\n",
       "      <td>0</td>\n",
       "      <td>0</td>\n",
       "      <td>1</td>\n",
       "      <td>1</td>\n",
       "      <td>1</td>\n",
       "      <td>1</td>\n",
       "      <td>0</td>\n",
       "      <td>0</td>\n",
       "      <td>1</td>\n",
       "      <td>1</td>\n",
       "      <td>0</td>\n",
       "      <td>0</td>\n",
       "      <td>0</td>\n",
       "      <td>0</td>\n",
       "    </tr>\n",
       "  </tbody>\n",
       "</table>\n",
       "</div>"
      ],
      "text/plain": [
       "   ID    Price  Area  Location  No. of Bedrooms  New/Resale  Gymnasium  \\\n",
       "0   0  4850000   720  Kharghar                1           0          0   \n",
       "1   1  4500000   600  Kharghar                1           0          1   \n",
       "2   2  6700000   650  Kharghar                1           0          1   \n",
       "3   3  4500000   650  Kharghar                1           0          0   \n",
       "4   4  5000000   665  Kharghar                1           0          0   \n",
       "\n",
       "   Lift Available  Car Parking  Maintenance Staff  24x7 Security  \\\n",
       "0               1            1                  1              1   \n",
       "1               1            1                  1              1   \n",
       "2               1            1                  1              1   \n",
       "3               1            1                  1              1   \n",
       "4               1            1                  1              1   \n",
       "\n",
       "   Children's Play Area  Clubhouse  Intercom  Landscaped Gardens  \\\n",
       "0                     0          0         0                   0   \n",
       "1                     0          1         0                   0   \n",
       "2                     1          1         1                   0   \n",
       "3                     0          0         1                   1   \n",
       "4                     0          0         1                   1   \n",
       "\n",
       "   Indoor Games  Gas Connection  Jogging Track  Swimming Pool  \n",
       "0             0               0              0              0  \n",
       "1             0               0              1              1  \n",
       "2             0               0              1              1  \n",
       "3             0               0              0              0  \n",
       "4             0               0              0              0  "
      ]
     },
     "execution_count": 5,
     "metadata": {},
     "output_type": "execute_result"
    }
   ],
   "source": [
    "df.head()"
   ]
  },
  {
   "cell_type": "code",
   "execution_count": 8,
   "id": "japanese-organic",
   "metadata": {},
   "outputs": [],
   "source": [
    "df_norm = df.copy()"
   ]
  },
  {
   "cell_type": "markdown",
   "id": "swiss-passenger",
   "metadata": {},
   "source": [
    "## Проверка на наличие нетипичных значений в стоблцах"
   ]
  },
  {
   "cell_type": "code",
   "execution_count": 9,
   "id": "canadian-chancellor",
   "metadata": {},
   "outputs": [
    {
     "data": {
      "text/plain": [
       "array(['Kharghar', 'Sector-13 Kharghar', 'Sector 18 Kharghar',\n",
       "       'Sector 20 Kharghar', 'Sector 15 Kharghar', 'Dombivali',\n",
       "       'Churchgate', 'Prabhadevi', 'Jogeshwari West', 'Kalyan East',\n",
       "       'Malad East', 'Virar East', 'Virar', 'Malad West', 'Borivali East',\n",
       "       'Mira Road East', 'Goregaon West', 'Kandivali West',\n",
       "       'Borivali West', 'Kandivali East', 'Andheri East', 'Goregaon East',\n",
       "       'Wadala', 'Ulwe', 'Dahisar', 'kandivali', 'Goregaon',\n",
       "       'Bhandup West', 'thakur village kandivali east', 'Santacruz West',\n",
       "       'Kanjurmarg', 'I C Colony', 'Dahisar W', 'Marol', 'Parel',\n",
       "       'Lower Parel', 'Worli', 'Jogeshwari East', 'Chembur Shell Colony',\n",
       "       'Central Avenue', 'Chembur East', 'Diamond Market Road', 'Mulund',\n",
       "       'Nalasopara West', 'raheja vihar', 'Powai Lake', 'MHADA Colony 20',\n",
       "       'Tolaram Colony', 'Taloja', 'Thane West', 'Vangani',\n",
       "       'Sector 5 Ulwe', 'Sector12 New Panvel', 'Sector 17 Ulwe',\n",
       "       'Sector9 Kamothe', 'Sector 19 Kharghar', 'Navi Basti',\n",
       "       'Sector12 Kamothe', 'Sector 21 Kamothe', 'Rutu Enclave',\n",
       "       'taloja panchanand', 'Virar West', 'Chembur', 'Sector 20 Kamothe',\n",
       "       'Sector 22 Kamothe', 'Sector 18 Kamothe', 'Sector-5 Kamothe',\n",
       "       'Sector-6A Kamothe', 'Sector 11 Kamothe', 'Sector-18 Ulwe',\n",
       "       'Sector-12 Kamothe', 'azad nagar', 'Sindhi Society Chembur',\n",
       "       'Kurla', 'Sahkar Nagar', 'Deonar', 'Thane', 'Jankalyan Nagar',\n",
       "       'Badlapur', 'Ambarnath', 'Ambernath West', 'Vakola', 'Kamothe',\n",
       "       'Kamothe Sector 16', 'Almeida Park', 'Khar', 'Bandra West',\n",
       "       'Pali Hill', '15th Road', 'Palghar', 'Sector13 Kharghar',\n",
       "       'Sector 21 Kharghar', 'Sector 12 Kharghar', 'Vivek Vidyalaya Marg',\n",
       "       'Vasai east', 'Nahur', 'Badlapur West', 'Panvel', 'Kalyan',\n",
       "       'Badlapur East', 'Mira Bhayandar', 'Juhu', 'Naigaon East',\n",
       "       'Sector 21 Ulwe', 'Bandra East', 'Dronagiri', 'Nerul', 'Karanjade',\n",
       "       'Sanpada', 'Sector-8 Ulwe', 'Sector-3 Ulwe', 'Sector 23 Ulwe',\n",
       "       'ULWE SECTOR 19', 'Ghodbunder Road', 'Bhiwandi', 'Vasai',\n",
       "       'Nala Sopara', 'Dadar East', 'Ghatkopar', 'Breach Candy',\n",
       "       'Worli South Mumbai', 'Asangaon', 'Koparkhairane Station Road',\n",
       "       'Kopar Khairane Sector 19A', 'Koper Khairane',\n",
       "       'Eastern Express Highway Vikhroli', 'Magathane', 'Rawal Pada',\n",
       "       'Ambernath East', 'Dokali Pada', 'Dattapada', 'Rajendra Nagar',\n",
       "       'Kulupwadi', 'Samata Nagar Thakur Village', 'Mira Road and Beyond',\n",
       "       'West Amardeep Colony', 'Pant Nagar', 'mumbai', 'Four Bungalows',\n",
       "       'no 9', 'kolshet', 'Hiranandani Meadows', 'Kalpataru', 'Petali',\n",
       "       'Kharghar Sector 34C', 'Ghatkopar East',\n",
       "       'Mumbai Agra National Highway', 'vasant vihar thane west',\n",
       "       'Kalyan West', 'Shirgaon', 'Pokhran 2', 'juhu tara', 'Peddar Road',\n",
       "       'Palm Beach', 'Sector 10', 'Sector 19 Kamothe', 'Tilak Nagar',\n",
       "       'Ghatkopar West', 'Tardeo', 'Napeansea Road', 'Mahalaxmi',\n",
       "       'Dahisar West', 'Mulund West', 'Natakwala Lane', 'Link Road',\n",
       "       'Devidas Cross Lane', 'Soniwadi Road', 'Haridas Nagar', 'Shimpoli',\n",
       "       'TPS Road', 'Off Shimpoli road', 'Rustomjee Global City',\n",
       "       'Sunil Nagar', 'Sector 30 Kharghar', 'Sector 12 A', 'Sector 18',\n",
       "       'Sector13 Khanda Colony', 'Sector16 Airoli', 'Ranjanpada',\n",
       "       'Sector 15', 'Sector 35G', 'Sector 5', 'Sector 35I Kharghar',\n",
       "       'Sector35D Kharghar', 'Sector34 A Kharghar', 'Sector 30',\n",
       "       'Sector 36 Kharghar', 'Sector 11 Belapur', 'Sector-34B Kharghar',\n",
       "       'Dombivali East', 'Roadpali', 'Sector-50 Seawoods',\n",
       "       'Mumbai Highway', 'Sector 7 Kharghar', 'Lokhandwala Township',\n",
       "       'Andheri', 'Andheri West', 'Shastri Nagar', 'Wadala East Wadala',\n",
       "       'Kalwa', 'PARSIK NAGAR', 'Maharashtra Nagar', 'Patlipada',\n",
       "       'Belapur', 'Seawoods', 'Majiwada', '4 Bunglows', 'Airoli',\n",
       "       'Kolshet Road', 'Sector 10 Khanda Colony', 'Pokharan Road',\n",
       "       'Kharegaon', 'Panch Pakhadi', 'Sector 36 Kamothe',\n",
       "       'Dombivli (West)', 'DN Nagar Road', 'Godrej Hill', 'Ganesh Nagar',\n",
       "       'Haware City', 'Mahatma Gandhi Road', 'Akurli Nagar',\n",
       "       'Kasar vadavali', 'Vasai West', 'Mumbai Nashik Expressway',\n",
       "       'Katrap', 'Mira Road', 'Kasheli',\n",
       "       'Western Express Highway Kandivali East', 'Vasind', 'KASHELI',\n",
       "       'Thakurli', 'Shakti Nagar', 'Bhayandar East', 'Dahisar East',\n",
       "       'ulhasnagar 4', 'Sector-26 Taloja', 'Koproli', 'Mumbai Central',\n",
       "       'Greater Khanda', 'link road borivali west', 'Manpada',\n",
       "       'Sector 2 Ulwe', 'Govind nagar', 'Krishanlal Marwah Marg',\n",
       "       'Sector-9 Ulwe', 'Vikhroli', 'Kalamboli', 'Lokhandwala',\n",
       "       'Patel Nagar', 'Yari Road', 'Thakur complex', 'Khar West',\n",
       "       'Sector 11 Kharghar', 'Ghansoli', 'Sector8 Sanpada',\n",
       "       'Jeejamata Nagar', 'Pandurangwadi', 'Shreyas Colony',\n",
       "       'Kannamwar Nagar II', 'gokuldham', 'Bangur Nagar',\n",
       "       'Shivaji Colony', 'Jawahar Nagar', 'Vedant Complex', 'Titwala',\n",
       "       'Manvel pada Road', 'Govandi', 'Shilphata Road Thane',\n",
       "       'Vasant Vihar', 'Thakur Village', 'Samata nagar', 'Wadi Bandar',\n",
       "       'Kapurbawadi', 'Thane Belapur Road Kalwa', 'Suburbs Mumbai',\n",
       "       'Ramdev Park', 'Sector-35 Kamothe',\n",
       "       'Sector 58A Seawoods Navi Mumbai', 'Diva', 'Borivali',\n",
       "       'Gundavali Gaothan', 'Kondivita Road', 'Koldongri', 'Saki Naka',\n",
       "       'Bhayandar West', 'Versova', 'Hanuman Nagar', 'worli sea face ',\n",
       "       'Sea Face', 'Shiv Sagar Estate', 'Grant Road West', 'Sriprastha',\n",
       "       'Off Nepean Sea Road', 'Morya Nagar', 'Upper Worli',\n",
       "       'worli sea Fase', 'Powai', 'Agripada', 'Sion', 'Girgaon',\n",
       "       'IT Colony', 'Bhayandarpada', 'Sector-24 Kamothe', 'Phase 2',\n",
       "       'Sector 6', 'Malad', 'Haji Ali', 'Majiwada thane', 'Yogi Hills',\n",
       "       'Sector 19 Nerul', 'Owale', 'MG Road', 'roadpali navimumbai',\n",
       "       'Taloja Bypass Nitalas Link Road', 'Rasayani', 'Sector 10 Kamothe',\n",
       "       'kavesar', 'Kopara', 'royal palms goregaon east', 'Dadar West',\n",
       "       'vrindavan society', 'CBD Belapur East', 'Parel Village',\n",
       "       'Karave Nagar', 'Sector 19A Nerul', 'Antop Hill', 'Suman Nagar',\n",
       "       'Bhakti Park', 'Hanuman Chowk', 'Willingdon', 'VishnuNagar',\n",
       "       'Vichumbe', 'Vashi', 'Poonam Sagar Complex', 'Santacruz East',\n",
       "       'Mulund East', 'Sector-8 Sanpada', 'Sector-9 Ghansoli', 'Balkum',\n",
       "       'Hiranandani Estates', 'Vartak Nagar', 'Charkop', 'dhanukarwadi',\n",
       "       'Vazira', 'Four Bunglows', 'Palava',\n",
       "       'Oshiwara Police Station Road', 'Seven Bunglow', 'Poddar Road',\n",
       "       'Gulmohar Road', 'Vile Parle E', 'Pokhran Road No 2',\n",
       "       'Sainath Nagar', 'Kapur Bawdi', 'Manpada near Tiku ji ni wadi',\n",
       "       'Kolshet Industrial Area', 'Sector16 Ulwe',\n",
       "       'Anand Nagar Thane West', 'Charkop Sector 8', 'Vile Parle',\n",
       "       'Marine Lines', 'Bandra Kurla Complex', 'sec 50 new',\n",
       "       'Vakola Pipeline Road', 'Neral', 'Shil Phata', 'Ville Parle East',\n",
       "       'matunga east', 'Dharavi', 'vile parle west', 'Anjurdive', 'Uran',\n",
       "       'Boisar', 'Kanjurmarg East', 'Kurla West', 'Sewri', 'Matunga',\n",
       "       'Goregaon (East)', 'Malabar Hill', 'Ambivali', 'Nalasopara East',\n",
       "       'Vijay Nagar', 'Chedda Nagar', 'Kurla East', 'Kharodi',\n",
       "       'Ville Parle West', 'Vikhroli West', 'Wadala East', 'Palidevad',\n",
       "       'Vikroli East', 'Mahim', 'Khalapur', 'Karjat', 'Vitthalwadi',\n",
       "       'Bhoiwada Kalyan', 'Beturkar Pada', 'Ambivli', 'Nilje Gaon',\n",
       "       'Khopoli', 'Taloje', 'Gulal Wadi', 'Tilak Nagar Mumbai',\n",
       "       'Chandivali', 'Nere', 'Kewale', 'Sector 9 Airoli', 'Diva Gaon',\n",
       "       'Sen Nagar', 'Adaigaon', 'Syndicate', 'Gandhar Nagar', 'Byculla',\n",
       "       'Padle Gaon'], dtype=object)"
      ]
     },
     "execution_count": 9,
     "metadata": {},
     "output_type": "execute_result"
    }
   ],
   "source": [
    "df_norm[\"Location\"].unique()"
   ]
  },
  {
   "cell_type": "code",
   "execution_count": 10,
   "id": "proof-billy",
   "metadata": {},
   "outputs": [
    {
     "data": {
      "text/plain": [
       "array([1, 4, 3, 2, 5, 6, 7], dtype=int64)"
      ]
     },
     "execution_count": 10,
     "metadata": {},
     "output_type": "execute_result"
    }
   ],
   "source": [
    "df_norm[\"No. of Bedrooms\"].unique()"
   ]
  },
  {
   "cell_type": "code",
   "execution_count": 11,
   "id": "dominant-chain",
   "metadata": {},
   "outputs": [
    {
     "data": {
      "text/plain": [
       "array([0, 1], dtype=int64)"
      ]
     },
     "execution_count": 11,
     "metadata": {},
     "output_type": "execute_result"
    }
   ],
   "source": [
    "df_norm[\"New/Resale\"].unique()"
   ]
  },
  {
   "cell_type": "code",
   "execution_count": 12,
   "id": "laden-fusion",
   "metadata": {},
   "outputs": [
    {
     "data": {
      "text/plain": [
       "array([0, 1], dtype=int64)"
      ]
     },
     "execution_count": 12,
     "metadata": {},
     "output_type": "execute_result"
    }
   ],
   "source": [
    "df_norm[\"Gymnasium\"].unique()"
   ]
  },
  {
   "cell_type": "code",
   "execution_count": 13,
   "id": "identified-marshall",
   "metadata": {},
   "outputs": [
    {
     "data": {
      "text/plain": [
       "array([1, 0], dtype=int64)"
      ]
     },
     "execution_count": 13,
     "metadata": {},
     "output_type": "execute_result"
    }
   ],
   "source": [
    "df_norm[\"Lift Available\"].unique()"
   ]
  },
  {
   "cell_type": "code",
   "execution_count": 14,
   "id": "pharmaceutical-gather",
   "metadata": {},
   "outputs": [
    {
     "data": {
      "text/plain": [
       "array([1, 0], dtype=int64)"
      ]
     },
     "execution_count": 14,
     "metadata": {},
     "output_type": "execute_result"
    }
   ],
   "source": [
    "df_norm[\"Car Parking\"].unique()"
   ]
  },
  {
   "cell_type": "code",
   "execution_count": 15,
   "id": "ruled-fight",
   "metadata": {},
   "outputs": [
    {
     "data": {
      "text/plain": [
       "array([1, 0], dtype=int64)"
      ]
     },
     "execution_count": 15,
     "metadata": {},
     "output_type": "execute_result"
    }
   ],
   "source": [
    "df_norm[\"Maintenance Staff\"].unique()"
   ]
  },
  {
   "cell_type": "code",
   "execution_count": 16,
   "id": "numerical-fifteen",
   "metadata": {},
   "outputs": [
    {
     "data": {
      "text/plain": [
       "array([1, 0], dtype=int64)"
      ]
     },
     "execution_count": 16,
     "metadata": {},
     "output_type": "execute_result"
    }
   ],
   "source": [
    "df_norm[\"24x7 Security\"].unique()"
   ]
  },
  {
   "cell_type": "code",
   "execution_count": 17,
   "id": "irish-discharge",
   "metadata": {},
   "outputs": [
    {
     "data": {
      "text/plain": [
       "array([0, 1], dtype=int64)"
      ]
     },
     "execution_count": 17,
     "metadata": {},
     "output_type": "execute_result"
    }
   ],
   "source": [
    "df_norm[\"Children's Play Area\"].unique()"
   ]
  },
  {
   "cell_type": "code",
   "execution_count": 18,
   "id": "noted-repository",
   "metadata": {},
   "outputs": [
    {
     "data": {
      "text/plain": [
       "array([0, 1], dtype=int64)"
      ]
     },
     "execution_count": 18,
     "metadata": {},
     "output_type": "execute_result"
    }
   ],
   "source": [
    "df_norm[\"Clubhouse\"].unique()"
   ]
  },
  {
   "cell_type": "code",
   "execution_count": 19,
   "id": "automotive-stranger",
   "metadata": {},
   "outputs": [
    {
     "data": {
      "text/plain": [
       "array([0, 1], dtype=int64)"
      ]
     },
     "execution_count": 19,
     "metadata": {},
     "output_type": "execute_result"
    }
   ],
   "source": [
    "df_norm[\"Intercom\"].unique()"
   ]
  },
  {
   "cell_type": "code",
   "execution_count": 20,
   "id": "plastic-florida",
   "metadata": {},
   "outputs": [
    {
     "data": {
      "text/plain": [
       "array([0, 1], dtype=int64)"
      ]
     },
     "execution_count": 20,
     "metadata": {},
     "output_type": "execute_result"
    }
   ],
   "source": [
    "df_norm[\"Landscaped Gardens\"].unique()"
   ]
  },
  {
   "cell_type": "code",
   "execution_count": 21,
   "id": "cordless-piece",
   "metadata": {},
   "outputs": [
    {
     "data": {
      "text/plain": [
       "array([0, 1], dtype=int64)"
      ]
     },
     "execution_count": 21,
     "metadata": {},
     "output_type": "execute_result"
    }
   ],
   "source": [
    "df_norm[\"Indoor Games\"].unique()"
   ]
  },
  {
   "cell_type": "code",
   "execution_count": 22,
   "id": "monthly-roulette",
   "metadata": {},
   "outputs": [
    {
     "data": {
      "text/plain": [
       "array([0, 1], dtype=int64)"
      ]
     },
     "execution_count": 22,
     "metadata": {},
     "output_type": "execute_result"
    }
   ],
   "source": [
    "df_norm[\"Gas Connection\"].unique()"
   ]
  },
  {
   "cell_type": "code",
   "execution_count": 23,
   "id": "matched-thickness",
   "metadata": {},
   "outputs": [
    {
     "data": {
      "text/plain": [
       "array([0, 1], dtype=int64)"
      ]
     },
     "execution_count": 23,
     "metadata": {},
     "output_type": "execute_result"
    }
   ],
   "source": [
    "df_norm[\"Jogging Track\"].unique()"
   ]
  },
  {
   "cell_type": "code",
   "execution_count": 24,
   "id": "prompt-concept",
   "metadata": {},
   "outputs": [
    {
     "data": {
      "text/plain": [
       "array([0, 1], dtype=int64)"
      ]
     },
     "execution_count": 24,
     "metadata": {},
     "output_type": "execute_result"
    }
   ],
   "source": [
    "df_norm[\"Swimming Pool\"].unique()"
   ]
  },
  {
   "cell_type": "markdown",
   "id": "palestinian-space",
   "metadata": {},
   "source": [
    "## Проверка наличия пустых значений в стобцах"
   ]
  },
  {
   "cell_type": "code",
   "execution_count": 25,
   "id": "olympic-sharing",
   "metadata": {},
   "outputs": [
    {
     "data": {
      "text/plain": [
       "['ID',\n",
       " 'Price',\n",
       " 'Area',\n",
       " 'Location',\n",
       " 'No. of Bedrooms',\n",
       " 'New/Resale',\n",
       " 'Gymnasium',\n",
       " 'Lift Available',\n",
       " 'Car Parking',\n",
       " 'Maintenance Staff',\n",
       " '24x7 Security',\n",
       " \"Children's Play Area\",\n",
       " 'Clubhouse',\n",
       " 'Intercom',\n",
       " 'Landscaped Gardens',\n",
       " 'Indoor Games',\n",
       " 'Gas Connection',\n",
       " 'Jogging Track',\n",
       " 'Swimming Pool']"
      ]
     },
     "execution_count": 25,
     "metadata": {},
     "output_type": "execute_result"
    }
   ],
   "source": [
    "cols = list(df.columns)\n",
    "cols"
   ]
  },
  {
   "cell_type": "code",
   "execution_count": 26,
   "id": "wooden-chemical",
   "metadata": {},
   "outputs": [
    {
     "data": {
      "text/plain": [
       "{'ID': 0,\n",
       " 'Price': 0,\n",
       " 'Area': 0,\n",
       " 'Location': 0,\n",
       " 'No. of Bedrooms': 0,\n",
       " 'New/Resale': 0,\n",
       " 'Gymnasium': 0,\n",
       " 'Lift Available': 0,\n",
       " 'Car Parking': 0,\n",
       " 'Maintenance Staff': 0,\n",
       " '24x7 Security': 0,\n",
       " \"Children's Play Area\": 0,\n",
       " 'Clubhouse': 0,\n",
       " 'Intercom': 0,\n",
       " 'Landscaped Gardens': 0,\n",
       " 'Indoor Games': 0,\n",
       " 'Gas Connection': 0,\n",
       " 'Jogging Track': 0,\n",
       " 'Swimming Pool': 0}"
      ]
     },
     "execution_count": 26,
     "metadata": {},
     "output_type": "execute_result"
    }
   ],
   "source": [
    "df_na = {col: list(pd.isna(df[col])).count(True) for col in cols}\n",
    "df_na"
   ]
  }
 ],
 "metadata": {
  "kernelspec": {
   "display_name": "Python 3",
   "language": "python",
   "name": "python3"
  },
  "language_info": {
   "codemirror_mode": {
    "name": "ipython",
    "version": 3
   },
   "file_extension": ".py",
   "mimetype": "text/x-python",
   "name": "python",
   "nbconvert_exporter": "python",
   "pygments_lexer": "ipython3",
   "version": "3.8.5"
  }
 },
 "nbformat": 4,
 "nbformat_minor": 5
}
